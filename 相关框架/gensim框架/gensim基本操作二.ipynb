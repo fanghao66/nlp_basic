{
 "cells": [
  {
   "cell_type": "code",
   "execution_count": 1,
   "metadata": {},
   "outputs": [],
   "source": [
    "from gensim.test.utils import common_texts\n",
    "from gensim.models import TfidfModel, LdaModel, LsiModel\n",
    "from gensim.corpora import Dictionary"
   ]
  },
  {
   "cell_type": "markdown",
   "metadata": {},
   "source": [
    "# 一、数据加载"
   ]
  },
  {
   "cell_type": "code",
   "execution_count": 2,
   "metadata": {},
   "outputs": [
    {
     "name": "stdout",
     "output_type": "stream",
     "text": [
      "原始数据:\n",
      "[['human', 'interface', 'computer'], ['survey', 'user', 'computer', 'system', 'response', 'time'], ['eps', 'user', 'interface', 'system'], ['system', 'human', 'system', 'eps'], ['user', 'response', 'time'], ['trees'], ['graph', 'trees'], ['graph', 'minors', 'trees'], ['graph', 'minors', 'survey']]\n",
      "\n",
      "词袋法后的值:\n",
      "[[(0, 1), (1, 1), (2, 1)], [(0, 1), (3, 1), (4, 1), (5, 1), (6, 1), (7, 1)], [(2, 1), (5, 1), (7, 1), (8, 1)], [(1, 1), (5, 2), (8, 1)], [(3, 1), (6, 1), (7, 1)], [(9, 1)], [(9, 1), (10, 1)], [(9, 1), (10, 1), (11, 1)], [(4, 1), (10, 1), (11, 1)]]\n",
      "文本数目:9\n",
      "去重后单词数目:12\n"
     ]
    }
   ],
   "source": [
    "# 构建字典\n",
    "common_dictionary = Dictionary(common_texts)\n",
    "# 各个文本对应的词袋法的值\n",
    "common_corpus = [common_dictionary.doc2bow(text) for text in common_texts]\n",
    "print(\"原始数据:\\n{}\".format(common_texts))\n",
    "print(\"\\n词袋法后的值:\\n{}\".format(common_corpus))\n",
    "print(f\"文本数目:{len(common_texts)}\")\n",
    "print(f\"去重后单词数目:{len(common_dictionary)}\")"
   ]
  },
  {
   "cell_type": "code",
   "execution_count": 3,
   "metadata": {},
   "outputs": [
    {
     "name": "stdout",
     "output_type": "stream",
     "text": [
      "测试数据对应的词袋法的值:\n",
      "[[(0, 1), (6, 1), (10, 1)], [(3, 1), (4, 1), (8, 1)], [(0, 1), (1, 1), (5, 1)]]\n"
     ]
    }
   ],
   "source": [
    "other_texts = [\n",
    "    ['computer', 'time', 'graph'],  # 文本1\n",
    "    ['survey', 'response', 'eps'],  # 文本2\n",
    "    ['human', 'system', 'computer']  # 文本3\n",
    "]\n",
    "other_corpus = [common_dictionary.doc2bow(text) for text in other_texts]\n",
    "print(\"测试数据对应的词袋法的值:\\n{}\".format(other_corpus))"
   ]
  },
  {
   "cell_type": "markdown",
   "metadata": {},
   "source": [
    "# 二、TF-IDF Model"
   ]
  },
  {
   "cell_type": "code",
   "execution_count": 4,
   "metadata": {},
   "outputs": [],
   "source": [
    "# 模型构建\n",
    "model = TfidfModel(corpus=common_corpus)"
   ]
  },
  {
   "cell_type": "code",
   "execution_count": 5,
   "metadata": {},
   "outputs": [
    {
     "name": "stdout",
     "output_type": "stream",
     "text": [
      "[(0, 0.6282580468670046), (6, 0.6282580468670046), (10, 0.45889394536615247)]\n",
      "[(3, 0.5773502691896257), (4, 0.5773502691896257), (8, 0.5773502691896257)]\n",
      "[(0, 0.6282580468670046), (1, 0.6282580468670046), (5, 0.45889394536615247)]\n"
     ]
    }
   ],
   "source": [
    "# 预测\n",
    "vectors = model[other_corpus]\n",
    "for vector in vectors:\n",
    "    print(vector)"
   ]
  },
  {
   "cell_type": "markdown",
   "metadata": {},
   "source": [
    "# 三、LDA Model"
   ]
  },
  {
   "cell_type": "code",
   "execution_count": 6,
   "metadata": {},
   "outputs": [],
   "source": [
    "# 模型构建&训练\n",
    "model = LdaModel(common_corpus, num_topics=4)"
   ]
  },
  {
   "cell_type": "code",
   "execution_count": 7,
   "metadata": {},
   "outputs": [],
   "source": [
    "# 模型保存\n",
    "model.save('./datas/lda_model.pkl')"
   ]
  },
  {
   "cell_type": "code",
   "execution_count": 8,
   "metadata": {},
   "outputs": [],
   "source": [
    "# 模型加载\n",
    "lda = LdaModel.load('./datas/lda_model.pkl')"
   ]
  },
  {
   "cell_type": "code",
   "execution_count": 9,
   "metadata": {},
   "outputs": [
    {
     "name": "stdout",
     "output_type": "stream",
     "text": [
      "[(0, 0.069767214), (1, 0.30470115), (2, 0.55993336), (3, 0.06559832)]\n",
      "[(0, 0.067352876), (1, 0.068941414), (2, 0.5631249), (3, 0.3005808)]\n",
      "[(0, 0.0669485), (1, 0.06265688), (2, 0.065133065), (3, 0.80526155)]\n"
     ]
    }
   ],
   "source": [
    "# 模型结果获取(文本向量)\n",
    "vectors = lda[other_corpus]\n",
    "for vector in vectors:\n",
    "    print(vector)"
   ]
  },
  {
   "cell_type": "code",
   "execution_count": 10,
   "metadata": {},
   "outputs": [],
   "source": [
    "# 更新模型（在当前模型基础上继续更新模型参数）\n",
    "lda.update(other_corpus)"
   ]
  },
  {
   "cell_type": "code",
   "execution_count": 11,
   "metadata": {},
   "outputs": [
    {
     "name": "stdout",
     "output_type": "stream",
     "text": [
      "[(0, 0.30812675), (1, 0.064296484), (2, 0.5623311), (3, 0.06524563)]\n",
      "[(0, 0.06380742), (1, 0.064043365), (2, 0.57102084), (3, 0.30112836)]\n",
      "[(0, 0.06360766), (1, 0.06259746), (2, 0.06405354), (3, 0.8097414)]\n"
     ]
    }
   ],
   "source": [
    "# 更新后模型结果获取(文本向量)\n",
    "vectors = lda[other_corpus]\n",
    "for vector in vectors:\n",
    "    print(vector)"
   ]
  },
  {
   "cell_type": "markdown",
   "metadata": {},
   "source": [
    "# 四、Other"
   ]
  },
  {
   "cell_type": "markdown",
   "metadata": {},
   "source": [
    "官网文档：https://radimrehurek.com/gensim/apiref.html"
   ]
  },
  {
   "cell_type": "code",
   "execution_count": 12,
   "metadata": {
    "scrolled": true
   },
   "outputs": [
    {
     "name": "stdout",
     "output_type": "stream",
     "text": [
      "各个单词对应的主题向量:\n",
      "<class 'numpy.ndarray'>\n",
      "(12, 4)\n",
      "[[0.02045472 0.04305287 0.10296427 0.12342904]\n",
      " [0.0964063  0.04281437 0.02170265 0.12337951]\n",
      " [0.02024666 0.0424786  0.02147618 0.22152357]\n",
      " [0.0201632  0.04322479 0.18441567 0.02626349]\n",
      " [0.02011306 0.20281161 0.10390142 0.02570693]\n",
      " [0.17394419 0.04368602 0.10411036 0.12415506]\n",
      " [0.02017469 0.04318488 0.18489635 0.02569816]\n",
      " [0.02039121 0.0436511  0.18560314 0.12395196]\n",
      " [0.09606148 0.04251812 0.02205596 0.12357894]\n",
      " [0.24436422 0.04705997 0.02380019 0.02820649]\n",
      " [0.17133532 0.2025251  0.02327944 0.02805221]\n",
      " [0.09634493 0.20299254 0.02179429 0.0260547 ]]\n"
     ]
    }
   ],
   "source": [
    "print(\"各个单词对应的主题向量:\")\n",
    "word_embedding_tabel = model.get_topics().T\n",
    "print(type(word_embedding_tabel))\n",
    "print(word_embedding_tabel.shape)\n",
    "print(word_embedding_tabel)"
   ]
  },
  {
   "cell_type": "code",
   "execution_count": 13,
   "metadata": {},
   "outputs": [
    {
     "data": {
      "text/plain": [
       "{'computer': 0,\n",
       " 'human': 1,\n",
       " 'interface': 2,\n",
       " 'response': 3,\n",
       " 'survey': 4,\n",
       " 'system': 5,\n",
       " 'time': 6,\n",
       " 'user': 7,\n",
       " 'eps': 8,\n",
       " 'trees': 9,\n",
       " 'graph': 10,\n",
       " 'minors': 11}"
      ]
     },
     "execution_count": 13,
     "metadata": {},
     "output_type": "execute_result"
    }
   ],
   "source": [
    "common_dictionary.token2id"
   ]
  },
  {
   "cell_type": "code",
   "execution_count": null,
   "metadata": {},
   "outputs": [],
   "source": []
  }
 ],
 "metadata": {
  "kernelspec": {
   "display_name": "Python 3 (ipykernel)",
   "language": "python",
   "name": "python3"
  },
  "language_info": {
   "codemirror_mode": {
    "name": "ipython",
    "version": 3
   },
   "file_extension": ".py",
   "mimetype": "text/x-python",
   "name": "python",
   "nbconvert_exporter": "python",
   "pygments_lexer": "ipython3",
   "version": "3.9.13"
  }
 },
 "nbformat": 4,
 "nbformat_minor": 2
}
